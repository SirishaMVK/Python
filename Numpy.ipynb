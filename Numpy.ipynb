{
 "cells": [
  {
   "cell_type": "markdown",
   "id": "9b818f55",
   "metadata": {},
   "source": [
    "# NumPy\n",
    "1. library for the Python programming language\n",
    "\n",
    "2. multi-dimensional arrays and matrices, vectors\n",
    "\n",
    "3. large collection of high-level mathematical functions to operate on these arrays"
   ]
  },
  {
   "cell_type": "markdown",
   "id": "76e15e01",
   "metadata": {},
   "source": [
    "# SciPy\n",
    "1. free and open-source Python library used for scientific computing and technical computing.\n",
    "\n",
    "2. contains modules for optimization, linear algebra, integration, interpolation, special functions, FFT, signal and image processing, ODE solvers and other tasks common in science and engineering"
   ]
  },
  {
   "cell_type": "code",
   "execution_count": 2,
   "id": "b7965c6d",
   "metadata": {},
   "outputs": [],
   "source": [
    "#!pip install numpy\n",
    "#import numpy\n",
    "import numpy as np"
   ]
  },
  {
   "cell_type": "code",
   "execution_count": 37,
   "id": "2ab08bdf",
   "metadata": {},
   "outputs": [
    {
     "name": "stdout",
     "output_type": "stream",
     "text": [
      "3 dimension is 0\n"
     ]
    }
   ],
   "source": [
    "#0-D array\n",
    "a=np.array(3)\n",
    "print(a,\"dimension is\", a.ndim)"
   ]
  },
  {
   "cell_type": "code",
   "execution_count": 4,
   "id": "4bdffaaf",
   "metadata": {},
   "outputs": [
    {
     "data": {
      "text/plain": [
       "array([ 5,  6,  8, 10])"
      ]
     },
     "execution_count": 4,
     "metadata": {},
     "output_type": "execute_result"
    }
   ],
   "source": [
    "#1-d array\n",
    "a=np.array([5,6,8,10])\n",
    "a"
   ]
  },
  {
   "cell_type": "code",
   "execution_count": 7,
   "id": "39f51416",
   "metadata": {},
   "outputs": [
    {
     "data": {
      "text/plain": [
       "array([[10, 23,  4],\n",
       "       [12, 56, 45]])"
      ]
     },
     "execution_count": 7,
     "metadata": {},
     "output_type": "execute_result"
    }
   ],
   "source": [
    "#2-d array\n",
    "b=np.array([[10,23,4],[12,56,45]])\n",
    "b"
   ]
  },
  {
   "cell_type": "code",
   "execution_count": 11,
   "id": "3de08b00",
   "metadata": {},
   "outputs": [
    {
     "data": {
      "text/plain": [
       "array([[[ 1.,  2.,  3.],\n",
       "        [ 4.,  5.,  6.]],\n",
       "\n",
       "       [[ 7.,  8.,  9.],\n",
       "        [11., 12., 13.]]])"
      ]
     },
     "execution_count": 11,
     "metadata": {},
     "output_type": "execute_result"
    }
   ],
   "source": [
    "#3-d array with datatype as float\n",
    "c = np.array([[(1,2,3),(4,5,6)],[(7,8,9),(11,12,13)]],dtype=float)\n",
    "c"
   ]
  },
  {
   "cell_type": "markdown",
   "id": "b96152c2",
   "metadata": {},
   "source": [
    "### Dimension of array--- Syntax: \"arrayname\".ndim"
   ]
  },
  {
   "cell_type": "code",
   "execution_count": 15,
   "id": "fcde6450",
   "metadata": {
    "scrolled": true
   },
   "outputs": [
    {
     "name": "stdout",
     "output_type": "stream",
     "text": [
      "0\n",
      "1\n",
      "2\n",
      "3\n"
     ]
    }
   ],
   "source": [
    "#how to find the dimension of array\n",
    "arr=np.array(8)\n",
    "a=np.array([5,6,8,10])\n",
    "b=np.array([[10,23,4],[12,56,45]])\n",
    "c = np.array([[(1,2,3),(4,5,6)],[(7,8,9),(11,12,13)]])\n",
    "print(arr.ndim)\n",
    "print(a.ndim)\n",
    "print(b.ndim)\n",
    "print(c.ndim)"
   ]
  },
  {
   "cell_type": "markdown",
   "id": "490bc4d6",
   "metadata": {},
   "source": [
    "### Type of array ---  Syntax: type(\"arrayname\")"
   ]
  },
  {
   "cell_type": "code",
   "execution_count": 13,
   "id": "28d13e33",
   "metadata": {},
   "outputs": [
    {
     "name": "stdout",
     "output_type": "stream",
     "text": [
      "<class 'numpy.ndarray'>\n",
      "<class 'numpy.ndarray'>\n",
      "<class 'numpy.ndarray'>\n"
     ]
    }
   ],
   "source": [
    "#find the type\n",
    "a=np.array([5,6,8,10])\n",
    "b=np.array([[10,23,4],[12,56,45]])\n",
    "c = np.array([[(1,2,3),(4,5,6)],[(7,8,9),(11,12,13)]])\n",
    "print(type(a))\n",
    "print(type(b))\n",
    "print(type(c))"
   ]
  },
  {
   "cell_type": "markdown",
   "id": "e5583332",
   "metadata": {},
   "source": [
    "### Dimension definition --- Syntax: np.array((\"array values\"), ndmin=\"dimension no.\")"
   ]
  },
  {
   "cell_type": "code",
   "execution_count": 19,
   "id": "62bb043b",
   "metadata": {},
   "outputs": [
    {
     "name": "stdout",
     "output_type": "stream",
     "text": [
      "[[1 2 3]]\n",
      "[[[ 1  2  3  4]\n",
      "  [ 1  8  9 10]]]\n"
     ]
    }
   ],
   "source": [
    "#Defining the dimension\n",
    "#answer is a 2 dimension, this can be found out by counting the pairs of sq. brackets eg:\n",
    "#also, check for the parameter ndmin and ndim spellings\n",
    "x=np.array([1,2,3],ndmin=2)\n",
    "y=np.array([[1,2,3,4],[1,8,9,10]], ndmin=3)\n",
    "print(x)\n",
    "print(y)"
   ]
  },
  {
   "cell_type": "markdown",
   "id": "f821971a",
   "metadata": {},
   "source": [
    "### Zeros array --- Syntax:np.zeros((row, cols))"
   ]
  },
  {
   "cell_type": "code",
   "execution_count": 23,
   "id": "2002d73a",
   "metadata": {},
   "outputs": [
    {
     "data": {
      "text/plain": [
       "array([[0, 0, 0, 0, 0],\n",
       "       [0, 0, 0, 0, 0],\n",
       "       [0, 0, 0, 0, 0]], dtype=int32)"
      ]
     },
     "execution_count": 23,
     "metadata": {},
     "output_type": "execute_result"
    }
   ],
   "source": [
    "#zeros array (3,5)is a tuple, this is because np.zeros((no of rows, no of cols), parameters required for the array)\n",
    "zero1=np.zeros((3,5),dtype='i')\n",
    "zero1"
   ]
  },
  {
   "cell_type": "markdown",
   "id": "a9512e9b",
   "metadata": {},
   "source": [
    "### Ones array --- Syntax: np.ones((row, cols))"
   ]
  },
  {
   "cell_type": "code",
   "execution_count": 67,
   "id": "8f62bd93",
   "metadata": {
    "scrolled": true
   },
   "outputs": [
    {
     "name": "stdout",
     "output_type": "stream",
     "text": [
      "[[b'1' b'1' b'1']]\n",
      "[[ True  True  True]]\n",
      "<class 'numpy.ndarray'> bool 2\n"
     ]
    }
   ],
   "source": [
    "#Ones array\n",
    "One1=np.ones((1,3),dtype='S')\n",
    "One2=np.ones((1,3),dtype='bool')\n",
    "print(One1)\n",
    "print(One2)\n",
    "print(type(One2), One2.dtype, One2.ndim)"
   ]
  },
  {
   "cell_type": "markdown",
   "id": "d16f9fc0",
   "metadata": {},
   "source": [
    "### Identity matrix --- Syntax: np.eye(\"row/cols\")"
   ]
  },
  {
   "cell_type": "code",
   "execution_count": 42,
   "id": "eb953a41",
   "metadata": {},
   "outputs": [
    {
     "name": "stdout",
     "output_type": "stream",
     "text": [
      "[[1. 0. 0. 0.]\n",
      " [0. 1. 0. 0.]\n",
      " [0. 0. 1. 0.]\n",
      " [0. 0. 0. 1.]]  \n",
      "[[0. 0. 0. 0.]\n",
      " [1. 0. 0. 0.]\n",
      " [0. 1. 0. 0.]\n",
      " [0. 0. 1. 0.]]\n"
     ]
    }
   ],
   "source": [
    "#Identity matrix is a sq matrix hence mentioning row value is enough.\n",
    "#Returns array filled with zeros except in the kth diagonal, whose values are equal to 1\n",
    "a=np.eye(4)\n",
    "print(a, \" \")"
   ]
  },
  {
   "cell_type": "code",
   "execution_count": 43,
   "id": "731c6ce0",
   "metadata": {},
   "outputs": [
    {
     "name": "stdout",
     "output_type": "stream",
     "text": [
      "[[0. 0. 0. 0.]\n",
      " [1. 0. 0. 0.]\n",
      " [0. 1. 0. 0.]\n",
      " [0. 0. 1. 0.]]\n"
     ]
    }
   ],
   "source": [
    "#in this the positioning of Ones can be redefined\n",
    "# if k=-1 it will go one row down\n",
    "b=np.eye(4,k=-1)\n",
    "print(b)"
   ]
  },
  {
   "cell_type": "code",
   "execution_count": 44,
   "id": "27c9855a",
   "metadata": {},
   "outputs": [
    {
     "name": "stdout",
     "output_type": "stream",
     "text": [
      "[[0. 0. 1. 0.]\n",
      " [0. 0. 0. 1.]\n",
      " [0. 0. 0. 0.]\n",
      " [0. 0. 0. 0.]]\n"
     ]
    }
   ],
   "source": [
    "#we see in the below example, we have last 2 rows being filled first\n",
    "b=np.eye(4,k=2)\n",
    "print(b)"
   ]
  },
  {
   "cell_type": "markdown",
   "id": "145568e5",
   "metadata": {},
   "source": [
    "# Acessing array elements"
   ]
  },
  {
   "cell_type": "code",
   "execution_count": 45,
   "id": "04dea2f7",
   "metadata": {},
   "outputs": [
    {
     "name": "stdout",
     "output_type": "stream",
     "text": [
      "3\n",
      "3\n",
      "8\n"
     ]
    }
   ],
   "source": [
    "#accessing 1d array, this is similar to list accessing\n",
    "a=np.array([1,2,3,4])\n",
    "print(a[2])\n",
    "print(a[-2])\n",
    "print(a[1]*a[3])"
   ]
  },
  {
   "cell_type": "code",
   "execution_count": 52,
   "id": "ef665a98",
   "metadata": {},
   "outputs": [
    {
     "name": "stdout",
     "output_type": "stream",
     "text": [
      "8\n"
     ]
    }
   ],
   "source": [
    "#accessing 2d array, the acessing is as follows \n",
    "#step1:[[0],[1]]\n",
    "#step2: [[0.0,0.1,0.2,0.3],[1.0,1.1,1.2,1.3]]\n",
    "#hence syntax is ([Step1, Step2])\n",
    "a=np.array([[1,4,5,6],[9,8,50,6]])\n",
    "print(a[1,1])"
   ]
  },
  {
   "cell_type": "code",
   "execution_count": 54,
   "id": "738e242a",
   "metadata": {},
   "outputs": [
    {
     "name": "stdout",
     "output_type": "stream",
     "text": [
      "60\n"
     ]
    }
   ],
   "source": [
    "#Access 3-D Arrays the acessing is as follows \n",
    "#step1:[[[0],[1]]]\n",
    "#step2:[[[0.0],[0.1].[1.0],[1.1]]]\n",
    "#step2: [0.0.0,0.0.1,0.0.2,0.0.3], [0.1.0,0.1.1,0.1.2,0.1.3],[1.0.0,1.0.1,1.0.2,1.0.3],[1.1.0,1.1.1,1.1.2,1.1.3]\n",
    "a = np.array([[[10, 20, 30], [40, 50, 60]], [[70, 81, 91], [101, 112, 123]]])\n",
    "print(a[0,1,2])"
   ]
  },
  {
   "cell_type": "code",
   "execution_count": 55,
   "id": "2990afba",
   "metadata": {},
   "outputs": [
    {
     "name": "stdout",
     "output_type": "stream",
     "text": [
      "8\n"
     ]
    }
   ],
   "source": [
    "#Negative Indexing, the last value/element is -1 anlast before being -2....\n",
    "a = np.array([[1,2,3,4,5], [6,7,8,9,10]])\n",
    "\n",
    "print(a[1, -3])"
   ]
  },
  {
   "cell_type": "markdown",
   "id": "020eb5a9",
   "metadata": {},
   "source": [
    "# Slicing arrays"
   ]
  },
  {
   "cell_type": "code",
   "execution_count": 3,
   "id": "2e6245ac",
   "metadata": {},
   "outputs": [
    {
     "name": "stdout",
     "output_type": "stream",
     "text": [
      "[2 3]\n",
      "[1 2 3 4]\n",
      "[3 4]\n",
      "[1 2 3]\n",
      "[]\n",
      "[2]\n",
      "[1 4]\n"
     ]
    }
   ],
   "source": [
    "#slicing in 1d is similar to list, syntax is a[start point, end point+1]\n",
    "a=np.array([1,2,3,4])\n",
    "print(a[1:3]) \n",
    "print(a[:]) #gives full array\n",
    "print(a[2:]) #gives complete array start from 2 index \n",
    "print(a[:3]) #gives elements from start to 2nd index\n",
    "print(a[-1:-3]) #doesn't give any elemets as slicing traverses from left to right\n",
    "print(a[-3:2]) \n",
    "print(a[::3]) #third value is a step value"
   ]
  },
  {
   "cell_type": "code",
   "execution_count": 5,
   "id": "ac9c8dbf",
   "metadata": {},
   "outputs": [
    {
     "name": "stdout",
     "output_type": "stream",
     "text": [
      "[ 8 50]\n",
      "[[ 1  4  5  6]\n",
      " [ 9  8 50  6]]\n",
      "[[ 5  6]\n",
      " [50  6]]\n",
      "[[ 1  4  5]\n",
      " [ 9  8 50]]\n",
      "[]\n",
      "[[4]\n",
      " [8]]\n",
      "[[1]\n",
      " [9]]\n",
      "[ 9 50]\n"
     ]
    }
   ],
   "source": [
    "#slicing in 2d array\n",
    "a=np.array([[1,4,5,6],[9,8,50,6]])\n",
    "print(a[1,1:3]) #in first indexed list [9,8,50,6] elements from index 1 to index 2 are given as output\n",
    "print(a[:]) #gives full array\n",
    "print(a[0:, 2:]) #gives complete array start from 2 index \n",
    "print(a[:2, :3]) #gives elements from both the lists from start to 2nd index\n",
    "print(a[1, -1:-3]) #doesn't give any elemets as slicing traverses from left to right\n",
    "print(a[0:, -3:2])\n",
    "print(a[:, :1])\n",
    "print(a[1,::2]) #::2 mentions to print every second value"
   ]
  },
  {
   "cell_type": "code",
   "execution_count": 6,
   "id": "98ac7e49",
   "metadata": {},
   "outputs": [
    {
     "name": "stdout",
     "output_type": "stream",
     "text": [
      "[112 123]\n",
      "[[[ 10  20  30]\n",
      "  [ 40  50  60]]\n",
      "\n",
      " [[ 70  81  91]\n",
      "  [101 112 123]]]\n",
      "[[[ 30]\n",
      "  [ 60]]\n",
      "\n",
      " [[ 91]\n",
      "  [123]]]\n",
      "[[ 70  81  91]\n",
      " [101 112 123]]\n",
      "[]\n",
      "[[10 20]\n",
      " [40 50]]\n",
      "[[[ 10]\n",
      "  [ 40]]\n",
      "\n",
      " [[ 70]\n",
      "  [101]]]\n",
      "[[[ 10  30]\n",
      "  [ 40  60]]\n",
      "\n",
      " [[ 70  91]\n",
      "  [101 123]]]\n"
     ]
    }
   ],
   "source": [
    "#slicing in 3d array\n",
    "a = np.array([[[10, 20, 30], [40, 50, 60]], [[70, 81, 91], [101, 112, 123]]])\n",
    "print(a[1,1,1:3]) #in first indexed list [70, 81, 91], [101, 112, 123],2:[101, 112, 123]  \n",
    "print(a[:]) #gives full array\n",
    "print(a[0:, 0:, 2:]) #gives complete array start from 2 index \n",
    "print(a[1, :2, :3]) #gives elements from both the lists from start to 2nd index\n",
    "print(a[0, 1, -1:-3]) #doesn't give any elemets as slicing traverses from left to right\n",
    "print(a[0, 0:, -3:2])\n",
    "print(a[:, :, :1]) \n",
    "print(a[:,:,::2]) #::1 is step value"
   ]
  },
  {
   "cell_type": "markdown",
   "id": "657cb1fd",
   "metadata": {},
   "source": [
    "# NumPy Data Types\n",
    "i - integer    \n",
    "b - boolean    \n",
    "u - unsigned integer    \n",
    "f - float     \n",
    "c - complex float    \n",
    "m - timedelta        \n",
    "M - datetime  \n",
    "O - object      \n",
    "S - string      \n",
    "U - unicode string    \n",
    "V - fixed chunk of memory for other type ( void )"
   ]
  },
  {
   "cell_type": "markdown",
   "id": "f71aa3c9",
   "metadata": {},
   "source": [
    "###  To convert the data type of an array  Syntax: \"arrayname\".astype(\"datatype\")"
   ]
  },
  {
   "cell_type": "code",
   "execution_count": 70,
   "id": "eb8f3e9f",
   "metadata": {},
   "outputs": [
    {
     "name": "stdout",
     "output_type": "stream",
     "text": [
      "int32\n",
      "[2 5 5]\n",
      "bool\n",
      "[ True  True  True]\n"
     ]
    }
   ],
   "source": [
    "#Change data type from float to integer by using int as parameter value\n",
    "a = np.array([2.6, 5.1, 5.6])  #takes the value before the decimal to convert from float to int\n",
    "b= a.astype(int)\n",
    "print(b.dtype)\n",
    "print(b)\n",
    "c=b.astype(bool)  #gives true if the value is in prsent in the index else gives false\n",
    "print(c.dtype)\n",
    "print(c)"
   ]
  },
  {
   "cell_type": "markdown",
   "id": "5f5fa717",
   "metadata": {},
   "source": [
    "### To copy an array Syntax: \"arrayname\".copy()"
   ]
  },
  {
   "cell_type": "code",
   "execution_count": 72,
   "id": "77d0abc1",
   "metadata": {},
   "outputs": [
    {
     "name": "stdout",
     "output_type": "stream",
     "text": [
      "[1 2 3 4 5 6 7 8 9]\n",
      "[ 1 20  3  4  5  6  7  8  9]\n"
     ]
    }
   ],
   "source": [
    "a =np.arange(1,10)\n",
    "b=a.copy()\n",
    "b[1] = 20\n",
    "print(a)\n",
    "print(b)  #as we see the value in B[1] is changes but not in a[1] "
   ]
  },
  {
   "cell_type": "markdown",
   "id": "5e3c0ffa",
   "metadata": {},
   "source": [
    "### View , Syntax: \"arrayname\".view()"
   ]
  },
  {
   "cell_type": "code",
   "execution_count": 74,
   "id": "1bab6170",
   "metadata": {},
   "outputs": [
    {
     "name": "stdout",
     "output_type": "stream",
     "text": [
      "[ 1 20  3  4  5  6  7  8  9]\n",
      "[ 1 20  3  4  5  6  7  8  9]\n"
     ]
    }
   ],
   "source": [
    "a =np.arange(1,10)\n",
    "b=a.view()\n",
    "b[1] = 20\n",
    "print(a)\n",
    "print(b)  #as we see the value in B[1] and A[1]is changed"
   ]
  },
  {
   "cell_type": "markdown",
   "id": "9892a475",
   "metadata": {},
   "source": [
    "### Shape of an array(to find out) ---  Syntax:\"arrayname\".shape"
   ]
  },
  {
   "cell_type": "code",
   "execution_count": 13,
   "id": "924750dd",
   "metadata": {},
   "outputs": [
    {
     "name": "stdout",
     "output_type": "stream",
     "text": [
      "[1 2 3 4 5 6 7 8 9]\n",
      "(9,)\n",
      "(2, 3)\n"
     ]
    }
   ],
   "source": [
    "#shape return tuple value as (row, value)\n",
    "a=np.arange(1,10,1)\n",
    "b=np.array([[1,2,3],[2,4,5]])\n",
    "print(a)\n",
    "print(a.shape) #the shape return a tuple value\n",
    "print(b.shape) "
   ]
  },
  {
   "cell_type": "markdown",
   "id": "35acd42d",
   "metadata": {},
   "source": [
    "### Reshaping means changing the shape of an array ---  Syntax \"arrayname\".reshape(row,shape)"
   ]
  },
  {
   "cell_type": "code",
   "execution_count": 15,
   "id": "7ec34687",
   "metadata": {},
   "outputs": [
    {
     "name": "stdout",
     "output_type": "stream",
     "text": [
      "[[ 1  2  3]\n",
      " [ 4  5  6]\n",
      " [ 7  8  9]\n",
      " [10 11 12]]\n"
     ]
    }
   ],
   "source": [
    "#reshaping of 1d to 2d array\n",
    "a=np.arange(1,13,1)\n",
    "b=a.reshape(4,3)\n",
    "print(b)"
   ]
  },
  {
   "cell_type": "code",
   "execution_count": 20,
   "id": "f483d2b9",
   "metadata": {},
   "outputs": [
    {
     "name": "stdout",
     "output_type": "stream",
     "text": [
      "[[[ 1  2  3]\n",
      "  [ 4  5  6]\n",
      "  [ 7  8  9]\n",
      "  [10 11 12]\n",
      "  [13 14 15]]\n",
      "\n",
      " [[16 17 18]\n",
      "  [19 20 21]\n",
      "  [22 23 24]\n",
      "  [25 26 27]\n",
      "  [28 29 30]]]\n"
     ]
    }
   ],
   "source": [
    "#reshaping 1d to 3d\n",
    "a=np.arange(1,31,1)\n",
    "b=a.reshape(2,5,3)\n",
    "print(b)"
   ]
  },
  {
   "cell_type": "markdown",
   "id": "05ee7270",
   "metadata": {},
   "source": [
    "### Flattening the arrays --- Syntax \"arrayname\".reshape(-1)"
   ]
  },
  {
   "cell_type": "code",
   "execution_count": 21,
   "id": "f8697752",
   "metadata": {},
   "outputs": [
    {
     "name": "stdout",
     "output_type": "stream",
     "text": [
      "[1 2 3 3 4 5]\n"
     ]
    }
   ],
   "source": [
    "#flattening an array means converting a multidimensional array into 1d array\n",
    "a=np.array([[1,2,3],[3,4,5]])\n",
    "b=a.reshape(-1)\n",
    "print(b)"
   ]
  },
  {
   "cell_type": "markdown",
   "id": "7b5daf18",
   "metadata": {},
   "source": [
    "### Iterating an array --- for loop "
   ]
  },
  {
   "cell_type": "code",
   "execution_count": 23,
   "id": "aea0ab99",
   "metadata": {},
   "outputs": [
    {
     "name": "stdout",
     "output_type": "stream",
     "text": [
      "10\n",
      "20\n",
      "30\n"
     ]
    }
   ],
   "source": [
    "# 1d array\n",
    "a=np.array([10,20,30])\n",
    "for i in a:\n",
    "    print(i)"
   ]
  },
  {
   "cell_type": "code",
   "execution_count": 31,
   "id": "82c17f46",
   "metadata": {},
   "outputs": [
    {
     "name": "stdout",
     "output_type": "stream",
     "text": [
      "[[ 1  2  3  4  5]\n",
      " [ 6  7  8  9 10]\n",
      " [11 12 13 14 15]\n",
      " [16 17 18 19 20]]\n",
      "[1 2 3 4 5]\n",
      "1\n",
      "2\n",
      "3\n",
      "4\n",
      "5\n",
      "[ 6  7  8  9 10]\n",
      "6\n",
      "7\n",
      "8\n",
      "9\n",
      "10\n",
      "[11 12 13 14 15]\n",
      "11\n",
      "12\n",
      "13\n",
      "14\n",
      "15\n",
      "[16 17 18 19 20]\n",
      "16\n",
      "17\n",
      "18\n",
      "19\n",
      "20\n"
     ]
    }
   ],
   "source": [
    "#2d array\n",
    "b=np.arange(1,21,1).reshape(4,5)\n",
    "print(b)\n",
    "for i in b:\n",
    "    print(i)\n",
    "    for j in i:\n",
    "        print(j)"
   ]
  },
  {
   "cell_type": "code",
   "execution_count": 33,
   "id": "7183fe70",
   "metadata": {},
   "outputs": [
    {
     "name": "stdout",
     "output_type": "stream",
     "text": [
      "[[11 21 44]\n",
      " [56 14 60]]\n",
      "[11 21 44]\n",
      "11\n",
      "21\n",
      "44\n",
      "[56 14 60]\n",
      "56\n",
      "14\n",
      "60\n",
      "[[ 7  8  9]\n",
      " [10 11 12]]\n",
      "[7 8 9]\n",
      "7\n",
      "8\n",
      "9\n",
      "[10 11 12]\n",
      "10\n",
      "11\n",
      "12\n"
     ]
    }
   ],
   "source": [
    "#3d array\n",
    "a = np.array([[[11, 21,44], [56, 14, 60]], [[7, 8, 9], [10, 11, 12]]])\n",
    "for i in a:\n",
    "    print(i)\n",
    "    for j in i:\n",
    "        print(j)\n",
    "        for k in j:\n",
    "            print(k)"
   ]
  },
  {
   "cell_type": "code",
   "execution_count": 34,
   "id": "89b404ab",
   "metadata": {},
   "outputs": [
    {
     "name": "stdout",
     "output_type": "stream",
     "text": [
      "11\n",
      "21\n",
      "44\n",
      "56\n",
      "14\n",
      "60\n",
      "7\n",
      "8\n",
      "9\n",
      "10\n",
      "11\n",
      "12\n"
     ]
    }
   ],
   "source": [
    "#iterating 3d array using nditer\n",
    "a = np.array([[[11, 21,44], [56, 14, 60]], [[7, 8, 9], [10, 11, 12]]])\n",
    "for x in np.nditer(a):\n",
    "    print(x)"
   ]
  },
  {
   "cell_type": "markdown",
   "id": "94c627d3",
   "metadata": {},
   "source": [
    "### Iterating of 3d array using nditer --- Syntax nditer(\"arrayname\") used with for loop"
   ]
  },
  {
   "cell_type": "code",
   "execution_count": 42,
   "id": "82e0b0c0",
   "metadata": {},
   "outputs": [
    {
     "name": "stdout",
     "output_type": "stream",
     "text": [
      "[[ 1  2  3  4  5]\n",
      " [ 6  7  8  9 10]]\n",
      "1\n",
      "3\n",
      "5\n",
      "6\n",
      "8\n",
      "10\n"
     ]
    }
   ],
   "source": [
    "#Iterate through every scalar element of the 2D array using slicing method\n",
    "a=np.arange(1,11).reshape(2,5)\n",
    "print(a)\n",
    "for i in np.nditer(a[:,::2]):\n",
    "    print(i)"
   ]
  },
  {
   "cell_type": "markdown",
   "id": "e66406fc",
   "metadata": {},
   "source": [
    "### Enumerate an array --- Syntax np.ndenumerate(\"arrayname\") used with for loop"
   ]
  },
  {
   "cell_type": "code",
   "execution_count": 44,
   "id": "29e9eb73",
   "metadata": {},
   "outputs": [
    {
     "name": "stdout",
     "output_type": "stream",
     "text": [
      "((0,), 7)\n",
      "((1,), 9)\n",
      "((2,), 10)\n"
     ]
    }
   ],
   "source": [
    "#enumerate 1d array\n",
    "\n",
    "x=np.array([7,9,10])\n",
    "for i in np.ndenumerate(x):\n",
    "    print(i)"
   ]
  },
  {
   "cell_type": "code",
   "execution_count": 46,
   "id": "8e10835b",
   "metadata": {},
   "outputs": [
    {
     "name": "stdout",
     "output_type": "stream",
     "text": [
      "(0, 0) 1\n",
      "(0, 1) 2\n",
      "(0, 2) 3\n",
      "(0, 3) 4\n",
      "(1, 0) 5\n",
      "(1, 1) 6\n",
      "(1, 2) 7\n",
      "(1, 3) 8\n"
     ]
    }
   ],
   "source": [
    "#Enumerate 2D array\n",
    "x = np.array([[1, 2, 3, 4], [5, 6, 7, 8]])\n",
    "\n",
    "for index,i in np.ndenumerate(x):\n",
    "  print(index, i)"
   ]
  },
  {
   "cell_type": "markdown",
   "id": "05219fa1",
   "metadata": {},
   "source": [
    "# Joining NumPy Arrays"
   ]
  },
  {
   "cell_type": "markdown",
   "id": "f3739e6e",
   "metadata": {},
   "source": [
    "### Merging elements of two or more arrays in a single array."
   ]
  },
  {
   "cell_type": "code",
   "execution_count": 76,
   "id": "37fa97ce",
   "metadata": {},
   "outputs": [
    {
     "name": "stdout",
     "output_type": "stream",
     "text": [
      "[1 2 3 4 4 5 6 7]\n"
     ]
    }
   ],
   "source": [
    "#difference between merging and reshape(-1) is\n",
    "#merging/concate will join different arrays \n",
    "#reshape(-1) will reshape a multidimensional array to id\n",
    "\n",
    "x=np.arange(1,5)\n",
    "y=np.arange(4,8)\n",
    "z=np.concatenate((x,y),axis=0)\n",
    "print(z)"
   ]
  },
  {
   "cell_type": "code",
   "execution_count": 63,
   "id": "0f39a368",
   "metadata": {},
   "outputs": [
    {
     "name": "stdout",
     "output_type": "stream",
     "text": [
      "[[ 1  2]\n",
      " [ 3  4]\n",
      " [ 5  6]\n",
      " [ 7  8]\n",
      " [ 9 10]\n",
      " [11 12]\n",
      " [13 14]\n",
      " [15 16]\n",
      " [17 18]\n",
      " [19 20]]\n",
      "[[ 1  2 11 12]\n",
      " [ 3  4 13 14]\n",
      " [ 5  6 15 16]\n",
      " [ 7  8 17 18]\n",
      " [ 9 10 19 20]]\n",
      "[[15 16]\n",
      " [17 18]]\n"
     ]
    }
   ],
   "source": [
    "#Join two 2d arrays\n",
    "a=np.arange(1,11).reshape(5,2)\n",
    "b=np.arange(11,21).reshape(5,2)\n",
    "c=np.concatenate((a,b),axis=0) #axis=0 means the next array will added column wise\n",
    "d=np.concatenate((a,b),axis=1) #axis=1 means the next array will added row wise\n",
    "print(c)\n",
    "print(d)\n",
    "print(d[2:4,2:])"
   ]
  },
  {
   "cell_type": "markdown",
   "id": "d47649a7",
   "metadata": {},
   "source": [
    "# Stacking Arrays"
   ]
  },
  {
   "cell_type": "markdown",
   "id": "2a8a1d53",
   "metadata": {},
   "source": [
    "### Stacking is same as concatenation, the only difference is that stacking is done along a new axis."
   ]
  },
  {
   "cell_type": "code",
   "execution_count": 66,
   "id": "c5384ab7",
   "metadata": {},
   "outputs": [
    {
     "name": "stdout",
     "output_type": "stream",
     "text": [
      "[[1 2 3 4]\n",
      " [5 6 7 8]]\n",
      "[[1 5]\n",
      " [2 6]\n",
      " [3 7]\n",
      " [4 8]]\n"
     ]
    }
   ],
   "source": [
    "# using the syntax np.stack always mention the axis\n",
    "a=np.arange(1,5)\n",
    "b=np.arange(5,9)\n",
    "c=np.stack((a,b),axis=0)\n",
    "d=np.stack((a,b),axis=1)\n",
    "print(c)\n",
    "print(d)"
   ]
  },
  {
   "cell_type": "code",
   "execution_count": 74,
   "id": "83aac602",
   "metadata": {},
   "outputs": [
    {
     "name": "stdout",
     "output_type": "stream",
     "text": [
      "[[1 4 5]\n",
      " [7 8 9]]\n",
      "[1 4 5 7 8 9]\n",
      "[[1 7]\n",
      " [4 8]\n",
      " [5 9]]\n"
     ]
    }
   ],
   "source": [
    "a=np.array([1,4,5])\n",
    "b=np.array([7,8,9])\n",
    "c=np.stack((a,b),axis=0)\n",
    "c1=np.concatenate((a,b),axis=0)\n",
    "d=np.stack((a,b),axis=1)\n",
    "#d1=np.concatenate((a,b),axis=1) #here using concatenate is giving out error \n",
    "print(c)\n",
    "print(c1)\n",
    "print(d)\n",
    "#print(d1)"
   ]
  },
  {
   "cell_type": "code",
   "execution_count": 70,
   "id": "b50d559c",
   "metadata": {},
   "outputs": [
    {
     "name": "stdout",
     "output_type": "stream",
     "text": [
      "[1 2 3 4 5 6]\n"
     ]
    }
   ],
   "source": [
    "#Stacking Along Rows\n",
    "#we need not mention the axis as hstack is horizontal stack\n",
    "a = np.array([1, 2, 3])\n",
    "b = np.array([4, 5, 6])\n",
    "c = np.hstack((a,b))\n",
    "print(c)"
   ]
  },
  {
   "cell_type": "code",
   "execution_count": 71,
   "id": "f1a24f76",
   "metadata": {},
   "outputs": [
    {
     "name": "stdout",
     "output_type": "stream",
     "text": [
      "[[1 2 3]\n",
      " [4 5 6]]\n"
     ]
    }
   ],
   "source": [
    "#Stacking Along Columns\n",
    "#we need not mention the axis as vstack is vertical stack\n",
    "a = np.array([1, 2, 3])\n",
    "b = np.array([4, 5, 6])\n",
    "c = np.vstack((a,b))\n",
    "print(c)"
   ]
  },
  {
   "cell_type": "code",
   "execution_count": 78,
   "id": "9ea3bf11",
   "metadata": {},
   "outputs": [
    {
     "data": {
      "text/plain": [
       "array([[[1, 4]],\n",
       "\n",
       "       [[2, 5]],\n",
       "\n",
       "       [[3, 6]]])"
      ]
     },
     "execution_count": 78,
     "metadata": {},
     "output_type": "execute_result"
    }
   ],
   "source": [
    "#Stack arrays in sequence depth wise (along third axis, which is rgb axis) \n",
    "#This function makes most sense for arrays with up to 3 dimensions. For instance, for pixel-\n",
    "#data with a height (first axis), width (second axis), and r/g/b channels (third axis).The\n",
    "#functions concatenate, stack and block provide more general stacking and concatenation operations.\n",
    "a = np.array([[1],[2],[3]])\n",
    "b = np.array([[4],[5],[6]])\n",
    "c=np.dstack((a,b))\n",
    "c"
   ]
  },
  {
   "cell_type": "markdown",
   "id": "0781f21a",
   "metadata": {},
   "source": [
    "# Splitting NumPy Arrays"
   ]
  },
  {
   "cell_type": "markdown",
   "id": "2b705274",
   "metadata": {},
   "source": [
    "## It is the reverse operation of Joining"
   ]
  },
  {
   "cell_type": "markdown",
   "id": "3b1b1772",
   "metadata": {},
   "source": [
    "### Splits single array into multiple"
   ]
  },
  {
   "cell_type": "code",
   "execution_count": 91,
   "id": "96932a52",
   "metadata": {},
   "outputs": [
    {
     "name": "stdout",
     "output_type": "stream",
     "text": [
      "[array([1]), array([2]), array([3]), array([4]), array([], dtype=int32)]\n",
      "[array([1, 2]), array([3, 4]), array([5, 6]), array([7, 8]), array([ 9, 10]), array([11]), array([12]), array([34]), array([45]), array([34])]\n",
      "[array([1, 2])]\n",
      "[array([3, 4])]\n"
     ]
    }
   ],
   "source": [
    "#the split function splits the values in equal manner\n",
    "a=np.array([1,2,3,4])\n",
    "b=np.array([1,2,3,4,5,6,7,8,9,10,11,12,34,45,34])\n",
    "a1=np.array_split(a,5)\n",
    "b1=np.array_split(b,10)\n",
    "print(a1)\n",
    "print(b1)\n",
    "print(b1[0:1]) #split creates a 1d array and each element can be retrived and acces it wholly only\n",
    "c=b1[1:2].copy()\n",
    "print(c)"
   ]
  },
  {
   "cell_type": "code",
   "execution_count": 92,
   "id": "eb66b222",
   "metadata": {},
   "outputs": [
    {
     "name": "stdout",
     "output_type": "stream",
     "text": [
      "[array([[ 1],\n",
      "       [ 4],\n",
      "       [ 7],\n",
      "       [10],\n",
      "       [13],\n",
      "       [16]]), array([[ 2],\n",
      "       [ 5],\n",
      "       [ 8],\n",
      "       [11],\n",
      "       [14],\n",
      "       [17]]), array([[ 3],\n",
      "       [ 6],\n",
      "       [ 9],\n",
      "       [12],\n",
      "       [15],\n",
      "       [18]]), array([], shape=(6, 0), dtype=int32)]\n"
     ]
    }
   ],
   "source": [
    "#split a 2d array\n",
    "a=np.array([[1, 2, 3], [4, 5, 6], [7, 8, 9], [10, 11, 12], [13, 14, 15], [16, 17, 18]])\n",
    "a1= np.array_split(a,4,axis=1) #it splits along the column \n",
    "print(a1)"
   ]
  },
  {
   "cell_type": "code",
   "execution_count": 94,
   "id": "d72286c0",
   "metadata": {},
   "outputs": [
    {
     "name": "stdout",
     "output_type": "stream",
     "text": [
      "[array([[ 1],\n",
      "       [ 4],\n",
      "       [ 7],\n",
      "       [10],\n",
      "       [13],\n",
      "       [16]]), array([[ 2],\n",
      "       [ 5],\n",
      "       [ 8],\n",
      "       [11],\n",
      "       [14],\n",
      "       [17]]), array([[ 3],\n",
      "       [ 6],\n",
      "       [ 9],\n",
      "       [12],\n",
      "       [15],\n",
      "       [18]])]\n"
     ]
    }
   ],
   "source": [
    "#split a 2d array\n",
    "a=np.array([[1, 2, 3], [4, 5, 6], [7, 8, 9], [10, 11, 12], [13, 14, 15], [16, 17, 18]])\n",
    "a1= np.hsplit(a,3) #need not mention the axis as it is hsplit also, there os no vsplit\n",
    "print(a1)"
   ]
  },
  {
   "cell_type": "markdown",
   "id": "ef6be11f",
   "metadata": {},
   "source": [
    "# Searching Arrays"
   ]
  },
  {
   "cell_type": "code",
   "execution_count": 8,
   "id": "5e78ec13",
   "metadata": {},
   "outputs": [
    {
     "data": {
      "text/plain": [
       "(array([2, 8], dtype=int64),)"
      ]
     },
     "execution_count": 8,
     "metadata": {},
     "output_type": "execute_result"
    }
   ],
   "source": [
    "#seach return the index value\n",
    "x=np.array([1,5,6,7,8,9,13,45,6])\n",
    "x1 = np.where(x == 6)\n",
    "x1"
   ]
  },
  {
   "cell_type": "code",
   "execution_count": 15,
   "id": "ab8e5578",
   "metadata": {},
   "outputs": [
    {
     "name": "stdout",
     "output_type": "stream",
     "text": [
      "(array([1, 3, 5, 6], dtype=int64),)\n",
      "(array([1, 3, 5, 6], dtype=int64),)\n"
     ]
    }
   ],
   "source": [
    "#finding the element in even indices\n",
    "a=([1,2,3,4,5,6,10,6,7,13,56])\n",
    "a1=np.where(x%2 == 0)\n",
    "print(a1)"
   ]
  },
  {
   "cell_type": "code",
   "execution_count": 9,
   "id": "9f241a25",
   "metadata": {},
   "outputs": [
    {
     "name": "stdout",
     "output_type": "stream",
     "text": [
      "[0 1 2]\n",
      "4\n"
     ]
    }
   ],
   "source": [
    "#The NumPy searchsorted () function can be used to find the index value \n",
    "#where the new elements should be inserted in the sorted array and the order of an array be preserved. \n",
    "#If in a sorted array the same elements is already present then we can specify to insert left or right of it.\n",
    "arr = np.array([1, 2, 3, 4])\n",
    "x = np.searchsorted(arr, [1,2,3])\n",
    "print(x)\n",
    "arr = np.array([67, 74, 62, 51])\n",
    "a=np.searchsorted(arr,65)  #so this indicates the element to be added in which index postion after sorting the array\n",
    "print(a)"
   ]
  },
  {
   "cell_type": "markdown",
   "id": "7e067582",
   "metadata": {},
   "source": [
    "# Sorting the array --- Syntax : np.sort(array name)"
   ]
  },
  {
   "cell_type": "code",
   "execution_count": 11,
   "id": "96b83dca",
   "metadata": {},
   "outputs": [
    {
     "name": "stdout",
     "output_type": "stream",
     "text": [
      "['artificial intelligence' 'datascience' 'machine learning' 'python']\n",
      "[  0  68  98 101 134 187 234]\n"
     ]
    }
   ],
   "source": [
    "#sort an array\n",
    "a=([101,234,134,187,68,98,0])\n",
    "b=np.sort(a)\n",
    "arr1 = np.array(['python', 'datascience', 'artificial intelligence','machine learning'])\n",
    "print(np.sort(arr1))\n",
    "print(b)"
   ]
  },
  {
   "cell_type": "code",
   "execution_count": 15,
   "id": "5afaf76a",
   "metadata": {},
   "outputs": [
    {
     "name": "stdout",
     "output_type": "stream",
     "text": [
      "[False False  True  True  True]\n"
     ]
    }
   ],
   "source": [
    "#for boolean values, always false is first \n",
    "a=np.array([True,True,False,True,False])\n",
    "print(np.sort(a))"
   ]
  },
  {
   "cell_type": "code",
   "execution_count": 19,
   "id": "1731a4c3",
   "metadata": {},
   "outputs": [
    {
     "name": "stdout",
     "output_type": "stream",
     "text": [
      "[[ 1  2  3]\n",
      " [10 11 13]\n",
      " [ 1  5  6]\n",
      " [13 14 15]\n",
      " [ 4  5  6]\n",
      " [ 7  8  9]\n",
      " [16 17 18]]\n"
     ]
    }
   ],
   "source": [
    "#sort a 2d array, the sort along the value in a row\n",
    "a=np.array([[2,3,1], [13,10,11], [1,6,5], [13, 14, 15], [4, 5, 6], [7, 8, 9], [16, 17, 18]])\n",
    "print(np.sort(a))"
   ]
  },
  {
   "cell_type": "markdown",
   "id": "d6f0813a",
   "metadata": {},
   "source": [
    "# LINEAR ALGEBRA"
   ]
  },
  {
   "cell_type": "markdown",
   "id": "67fdb491",
   "metadata": {},
   "source": [
    "### Dot product of the two arrays --- Syntax: np.dot(\"array1\", \"array2\")"
   ]
  },
  {
   "cell_type": "code",
   "execution_count": 23,
   "id": "333440b4",
   "metadata": {},
   "outputs": [
    {
     "name": "stdout",
     "output_type": "stream",
     "text": [
      "[[37 40]\n",
      " [85 92]]\n"
     ]
    }
   ],
   "source": [
    "a = np.array([[1,2], [3,4]]) \n",
    "b = np.array([[11, 12], [13, 14]]) \n",
    "print (np.dot(a,b))\n",
    "#1*11+2*13 , 1*12+2*14 \n",
    "#3*11+4*13, 3*12+4*14 "
   ]
  },
  {
   "cell_type": "code",
   "execution_count": 24,
   "id": "4106094d",
   "metadata": {},
   "outputs": [
    {
     "name": "stdout",
     "output_type": "stream",
     "text": [
      "[[35 41]\n",
      " [81 95]]\n"
     ]
    }
   ],
   "source": [
    "a = np.array([[1,2], [3,4]]) \n",
    "b = np.array([[11, 12], [13, 14]]) \n",
    "print (np.inner(a,b))\n",
    "#1*11+2*12, 1*13+2*14 \n",
    "#3*11+4*12, 3*13+4*14 "
   ]
  },
  {
   "cell_type": "markdown",
   "id": "b758c1f5",
   "metadata": {},
   "source": [
    "### Inverse of a matrix  --- Syntax:np.linalg.inv(\"array name\")"
   ]
  },
  {
   "cell_type": "code",
   "execution_count": 26,
   "id": "05efdd9c",
   "metadata": {},
   "outputs": [
    {
     "name": "stdout",
     "output_type": "stream",
     "text": [
      "[[-0.19230769  0.11538462]\n",
      " [ 0.46153846 -0.07692308]]\n"
     ]
    }
   ],
   "source": [
    "#inverse is a log inverse of the number \n",
    "x = np.array([[2,3],[12,5]]) \n",
    "y = np.linalg.inv(x) \n",
    "print(y)"
   ]
  },
  {
   "cell_type": "markdown",
   "id": "542b11b9",
   "metadata": {},
   "source": [
    "### Determinant of Matrix --- Syntax: np.linalg.set(\"array name\")"
   ]
  },
  {
   "cell_type": "code",
   "execution_count": 27,
   "id": "04ff5b29",
   "metadata": {},
   "outputs": [
    {
     "data": {
      "text/plain": [
       "-9.999999999999998"
      ]
     },
     "execution_count": 27,
     "metadata": {},
     "output_type": "execute_result"
    }
   ],
   "source": [
    "# Determinant  [[a,b], [c,d]], = ‘ad-bc’\n",
    "a=np.array([[3,4],[13,14]])\n",
    "np.linalg.det(a)"
   ]
  },
  {
   "cell_type": "markdown",
   "id": "3357a63e",
   "metadata": {},
   "source": [
    "### Solve Linear Equation Using NumPy"
   ]
  },
  {
   "cell_type": "code",
   "execution_count": 34,
   "id": "92a925d8",
   "metadata": {},
   "outputs": [
    {
     "name": "stdout",
     "output_type": "stream",
     "text": [
      "[[ 1.28571429 -0.28571429 -0.14285714]\n",
      " [-0.47619048  0.14285714  0.23809524]\n",
      " [ 0.19047619  0.14285714 -0.0952381 ]]\n",
      "[[ 6]\n",
      " [-4]\n",
      " [27]]\n",
      "[[ 5.]\n",
      " [ 3.]\n",
      " [-2.]]\n",
      "[[ 5.]\n",
      " [ 3.]\n",
      " [-2.]]\n"
     ]
    }
   ],
   "source": [
    "#slove an equation to find x,y,z values\n",
    "a = np.array([[1,1,1],[0,2,5],[2,5,-1]]) \n",
    "ainv = np.linalg.inv(a) \n",
    "print(ainv)\n",
    "b = np.array([[6],[-4],[27]])  \n",
    "print(b)\n",
    "print(np.dot(ainv,b))\n",
    "x = np.linalg.solve(a,b) \n",
    "print(x)"
   ]
  },
  {
   "cell_type": "markdown",
   "id": "e23ed54f",
   "metadata": {},
   "source": [
    "### Statistical Functions"
   ]
  },
  {
   "cell_type": "code",
   "execution_count": 37,
   "id": "79d7708a",
   "metadata": {},
   "outputs": [
    {
     "name": "stdout",
     "output_type": "stream",
     "text": [
      "5\n",
      "99\n"
     ]
    }
   ],
   "source": [
    "#finiding min and max \n",
    "a=np.array([[5,78,6],[19,99,55],[34,56,67]])\n",
    "print(np.amin(a))\n",
    "print(np.amax(a))"
   ]
  },
  {
   "cell_type": "markdown",
   "id": "a0316284",
   "metadata": {},
   "source": [
    "### Median  --- Syntax: np.median(\"array name\")"
   ]
  },
  {
   "cell_type": "code",
   "execution_count": 42,
   "id": "c9d6119d",
   "metadata": {},
   "outputs": [
    {
     "name": "stdout",
     "output_type": "stream",
     "text": [
      "[[ 5  6 78]\n",
      " [19 55 99]\n",
      " [34 56 67]]\n",
      "55.0\n",
      "5.0\n"
     ]
    }
   ],
   "source": [
    "#find the median\n",
    "a=np.array([[1,2,3],[4,5,6],[7,8,9]])\n",
    "b=np.array([[5,78,6],[19,99,55],[34,56,67]])\n",
    "print(np.sort(b))\n",
    "print(np.median(b))\n",
    "print(np.median(a))"
   ]
  },
  {
   "cell_type": "markdown",
   "id": "27eaaa41",
   "metadata": {},
   "source": [
    "### Standard deviation  --- Syntax: np.std(\"array name\")"
   ]
  },
  {
   "cell_type": "code",
   "execution_count": 44,
   "id": "46e59964",
   "metadata": {},
   "outputs": [
    {
     "name": "stdout",
     "output_type": "stream",
     "text": [
      "[1 2 3 4]\n",
      "1.118033988749895\n"
     ]
    }
   ],
   "source": [
    "#If the array is [1, 2, 3, 4], then its mean is 2.5. \n",
    "#Hence the squared deviations are [2.25, 0.25, 0.25, 2.25] and the square root of its mean divided by 4, i.e., sqrt (5/4) \n",
    "#is 1.1180339887498949.\n",
    "a = np.array([1,2,3,4]) \n",
    "print(a)\n",
    "print(np.std(a))"
   ]
  },
  {
   "cell_type": "markdown",
   "id": "befd803f",
   "metadata": {},
   "source": [
    "### Variance  --- Syntax : np.var(\"array name\")"
   ]
  },
  {
   "cell_type": "code",
   "execution_count": 45,
   "id": "446f439b",
   "metadata": {},
   "outputs": [
    {
     "name": "stdout",
     "output_type": "stream",
     "text": [
      "1.25\n"
     ]
    }
   ],
   "source": [
    "#the deviations are [2.25, 0.25, 0.25, 2.25] and the sum of its mean divided by 4, i.e.,(5/4) \n",
    "a=np.array([1,2,3,4])\n",
    "print(np.var(a))"
   ]
  },
  {
   "cell_type": "markdown",
   "id": "eed65e68",
   "metadata": {},
   "source": [
    "### Average --- Syntax : np.average(\"array name\")"
   ]
  },
  {
   "cell_type": "code",
   "execution_count": 47,
   "id": "ab00bba9",
   "metadata": {},
   "outputs": [
    {
     "name": "stdout",
     "output_type": "stream",
     "text": [
      "2.0\n"
     ]
    }
   ],
   "source": [
    "#Average - same as mean\n",
    "a = np.array([1,2,3]) \n",
    "print(np.average(a))"
   ]
  },
  {
   "cell_type": "markdown",
   "id": "651aea79",
   "metadata": {},
   "source": [
    "### Percentile ---  Syntax : np.percentile(\"array name\", value for which percentile is to be calculate)"
   ]
  },
  {
   "cell_type": "code",
   "execution_count": 51,
   "id": "36a285c4",
   "metadata": {},
   "outputs": [
    {
     "name": "stdout",
     "output_type": "stream",
     "text": [
      "[ 2 10 20 32 34 56 78 90 98]\n",
      "[ 2 10 20 56 34 90 78 98 32]\n",
      "91.6\n"
     ]
    }
   ],
   "source": [
    "#Percentile = (Number of Values Below “x” / Total Number of Values) × 100\n",
    "a = np.array([2,10,20,56,34,90,78,98,32])  \n",
    "print(np.sort(a))\n",
    "print(a)  \n",
    "print(np.percentile(a,90))"
   ]
  },
  {
   "cell_type": "markdown",
   "id": "40af3332",
   "metadata": {},
   "source": [
    "### Peak to peak function : determine the range along an axis"
   ]
  },
  {
   "cell_type": "code",
   "execution_count": 54,
   "id": "ad9e8972",
   "metadata": {},
   "outputs": [
    {
     "name": "stdout",
     "output_type": "stream",
     "text": [
      "[14  3  4]\n"
     ]
    }
   ],
   "source": [
    "#difference between a1=b1 eg:20-6\n",
    "a = np.array([[20,10,30],[6,7,34]])  \n",
    "print(np.ptp(a,0))"
   ]
  }
 ],
 "metadata": {
  "kernelspec": {
   "display_name": "Python 3 (ipykernel)",
   "language": "python",
   "name": "python3"
  },
  "language_info": {
   "codemirror_mode": {
    "name": "ipython",
    "version": 3
   },
   "file_extension": ".py",
   "mimetype": "text/x-python",
   "name": "python",
   "nbconvert_exporter": "python",
   "pygments_lexer": "ipython3",
   "version": "3.9.7"
  }
 },
 "nbformat": 4,
 "nbformat_minor": 5
}
